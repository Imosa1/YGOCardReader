{
  "nbformat": 4,
  "nbformat_minor": 0,
  "metadata": {
    "colab": {
      "name": "YGOCardGenerator.ipynb",
      "version": "0.3.2",
      "provenance": [],
      "collapsed_sections": []
    },
    "kernelspec": {
      "name": "python3",
      "display_name": "Python 3"
    },
    "accelerator": "GPU"
  },
  "cells": [
    {
      "metadata": {
        "id": "Rv8h-B10YC9d",
        "colab_type": "code",
        "colab": {}
      },
      "cell_type": "code",
      "source": [
        "import json\n",
        "import scipy as sp\n",
        "import numpy as np # linear algebra\n",
        "import pandas as pd # data processing, CSV file I/O (e.g. pd.read_csv)\n",
        "import matplotlib.pyplot as plt # plotting stuff\n",
        "from pprint import pprint\n",
        "from google.colab import drive"
      ],
      "execution_count": 0,
      "outputs": []
    },
    {
      "metadata": {
        "id": "jiB-n5K660bc",
        "colab_type": "code",
        "colab": {}
      },
      "cell_type": "code",
      "source": [
        "drive.mount('/content/drive')"
      ],
      "execution_count": 0,
      "outputs": []
    },
    {
      "metadata": {
        "id": "pOOUNpo7q8IZ",
        "colab_type": "code",
        "colab": {}
      },
      "cell_type": "code",
      "source": [
        "PATH = \"content/drive/My Drive/Colab Notebooks/data/YugiohCardDB/\""
      ],
      "execution_count": 0,
      "outputs": []
    },
    {
      "metadata": {
        "id": "03DiAklhq01r",
        "colab_type": "code",
        "colab": {}
      },
      "cell_type": "code",
      "source": [
        "with open(\"drive/My Drive/Colab Notebooks/data/YugiohCardDB/cardinfo.php.json\") as f:\n",
        "    data = json.load(f)"
      ],
      "execution_count": 0,
      "outputs": []
    },
    {
      "metadata": {
        "id": "f7Kf7mMyofNf",
        "colab_type": "code",
        "outputId": "429093ac-470c-43c1-8942-8f94188c86b4",
        "colab": {
          "base_uri": "https://localhost:8080/",
          "height": 35
        }
      },
      "cell_type": "code",
      "source": [
        "f\"{PATH}cardinfo.php.json\""
      ],
      "execution_count": 0,
      "outputs": [
        {
          "output_type": "execute_result",
          "data": {
            "text/plain": [
              "'content/drive/My Drive/Colab Notebooks/data/YugiohCardDB/cardinfo.php.json'"
            ]
          },
          "metadata": {
            "tags": []
          },
          "execution_count": 11
        }
      ]
    },
    {
      "metadata": {
        "id": "nBiUeaGtog0n",
        "colab_type": "code",
        "outputId": "26b63c2b-cf8f-429f-94d1-b1be567a362d",
        "colab": {
          "base_uri": "https://localhost:8080/",
          "height": 35
        }
      },
      "cell_type": "code",
      "source": [
        "!ls"
      ],
      "execution_count": 0,
      "outputs": [
        {
          "output_type": "stream",
          "text": [
            "drive  sample_data\n"
          ],
          "name": "stdout"
        }
      ]
    },
    {
      "metadata": {
        "id": "zaowK06SrkDe",
        "colab_type": "code",
        "outputId": "d41e45b0-d67e-4149-c66d-6c7ce35a3e77",
        "colab": {
          "base_uri": "https://localhost:8080/",
          "height": 1506
        }
      },
      "cell_type": "code",
      "source": [
        "data[0][9:13]"
      ],
      "execution_count": 0,
      "outputs": [
        {
          "output_type": "execute_result",
          "data": {
            "text/plain": [
              "[{'archetype': None,\n",
              "  'atk': '1400',\n",
              "  'attribute': 'EARTH',\n",
              "  'ban_goat': None,\n",
              "  'ban_ocg': None,\n",
              "  'ban_tcg': None,\n",
              "  'def': '300',\n",
              "  'desc': 'Twice per turn, you can send 1 face-up Continuous Spell or Continuous Trap Card you control to the Graveyard to inflict 500 damage to your opponent.',\n",
              "  'id': '114932',\n",
              "  'image_url': 'https://ygoprodeck.com/pics/114932.jpg',\n",
              "  'image_url_small': 'https://ygoprodeck.com/pics_small/114932.jpg',\n",
              "  'level': '3',\n",
              "  'linkmarkers': None,\n",
              "  'linkval': None,\n",
              "  'name': 'Seismic Crasher',\n",
              "  'race': 'Rock',\n",
              "  'scale': None,\n",
              "  'set_tag': 'FOTB-EN027,',\n",
              "  'setcode': 'Force of the Breaker,',\n",
              "  'type': 'Effect Monster'},\n",
              " {'archetype': 'Laval',\n",
              "  'atk': '2100',\n",
              "  'attribute': 'FIRE',\n",
              "  'ban_goat': None,\n",
              "  'ban_ocg': None,\n",
              "  'ban_tcg': None,\n",
              "  'def': '200',\n",
              "  'desc': 'You can Normal Summon this card without Tributing. If you do, during the End Phase: Send it to the Graveyard. When this card on the field is destroyed and sent to the Graveyard: You can target 1 of your banished FIRE monsters; add that target to your hand.',\n",
              "  'id': '123709',\n",
              "  'image_url': 'https://ygoprodeck.com/pics/123709.jpg',\n",
              "  'image_url_small': 'https://ygoprodeck.com/pics_small/123709.jpg',\n",
              "  'level': '6',\n",
              "  'linkmarkers': None,\n",
              "  'linkval': None,\n",
              "  'name': 'Laval Lancelord',\n",
              "  'race': 'Warrior',\n",
              "  'scale': None,\n",
              "  'set_tag': 'PHSW-EN094,SDOK-EN008,',\n",
              "  'setcode': 'Photon Shockwave,Onslaught of the Fire Kings Structure Deck,',\n",
              "  'type': 'Effect Monster'},\n",
              " {'archetype': None,\n",
              "  'atk': None,\n",
              "  'attribute': '0',\n",
              "  'ban_goat': None,\n",
              "  'ban_ocg': None,\n",
              "  'ban_tcg': None,\n",
              "  'def': None,\n",
              "  'desc': 'Roll a six-sided die. All monsters your opponent currently controls lose ATK and DEF equal to the result x 100, until the End Phase.',\n",
              "  'id': '126218',\n",
              "  'image_url': 'https://ygoprodeck.com/pics/126218.jpg',\n",
              "  'image_url_small': 'https://ygoprodeck.com/pics_small/126218.jpg',\n",
              "  'level': '0',\n",
              "  'linkmarkers': None,\n",
              "  'linkval': None,\n",
              "  'name': 'Skull Dice',\n",
              "  'race': 'Normal',\n",
              "  'scale': None,\n",
              "  'set_tag': 'SS02-ENB17,GLD4-EN046,LCJW-EN074,EDS-003,TSC-E003,',\n",
              "  'setcode': \"Speed Duel Starter Decks: Duelists of Tomorrow,Gold Series 4: Pyramids Edition,Legendary Collection 4: Joey's World Mega Pack,Yu-Gi-Oh! The Eternal Duelist Soul promotional cards,Yu-Gi-Oh! The Sacred Cards promotional cards,\",\n",
              "  'type': 'Trap Card'},\n",
              " {'archetype': 'Performapal',\n",
              "  'atk': '1100',\n",
              "  'attribute': 'WIND',\n",
              "  'ban_goat': None,\n",
              "  'ban_ocg': None,\n",
              "  'ban_tcg': None,\n",
              "  'def': '2400',\n",
              "  'desc': 'You can banish this card from your Graveyard, then target 2 cards among the Pendulum Monsters you control and/or the \"Magician\" and \"Performapal\" cards in your Pendulum Zone; return both to the hand. You can only use this effect of \"Performapal Springoose\" once per turn.',\n",
              "  'id': '128454',\n",
              "  'image_url': 'https://ygoprodeck.com/pics/128454.jpg',\n",
              "  'image_url_small': 'https://ygoprodeck.com/pics_small/128454.jpg',\n",
              "  'level': '5',\n",
              "  'linkmarkers': None,\n",
              "  'linkval': None,\n",
              "  'name': 'Performapal Springoose',\n",
              "  'race': 'Winged Beast',\n",
              "  'scale': None,\n",
              "  'set_tag': 'CROS-EN005,MP16-EN005,',\n",
              "  'setcode': 'Crossed Souls,2016 Mega-Tin Mega Pack,',\n",
              "  'type': 'Effect Monster'}]"
            ]
          },
          "metadata": {
            "tags": []
          },
          "execution_count": 30
        }
      ]
    },
    {
      "metadata": {
        "id": "Ju1z_Msmtv2O",
        "colab_type": "code",
        "outputId": "5f5cfc90-6bcb-43a0-e2fc-1fb1f1e8203a",
        "colab": {
          "base_uri": "https://localhost:8080/",
          "height": 35
        }
      },
      "cell_type": "code",
      "source": [
        "transitionMatrix = [[0.2,0.6,0.2],[0.1,0.6,0.3],[0.2,0.7,0.1]]\n",
        "transitionMatrix"
      ],
      "execution_count": 0,
      "outputs": [
        {
          "output_type": "execute_result",
          "data": {
            "text/plain": [
              "[[0.2, 0.6, 0.2], [0.1, 0.6, 0.3], [0.2, 0.7, 0.1]]"
            ]
          },
          "metadata": {
            "tags": []
          },
          "execution_count": 19
        }
      ]
    },
    {
      "metadata": {
        "id": "zRmuwkwa7FBg",
        "colab_type": "code",
        "outputId": "228ce18f-4580-4914-c201-6feb783ea951",
        "colab": {
          "base_uri": "https://localhost:8080/",
          "height": 35
        }
      },
      "cell_type": "code",
      "source": [
        "transitionMatrix[1][0]"
      ],
      "execution_count": 0,
      "outputs": [
        {
          "output_type": "execute_result",
          "data": {
            "text/plain": [
              "0.1"
            ]
          },
          "metadata": {
            "tags": []
          },
          "execution_count": 21
        }
      ]
    },
    {
      "metadata": {
        "id": "uvoEpprb7WfA",
        "colab_type": "code",
        "outputId": "f32096d5-ab8d-4388-c091-2469dab021d2",
        "colab": {
          "base_uri": "https://localhost:8080/",
          "height": 209
        }
      },
      "cell_type": "code",
      "source": [
        "dict = {'Name': 'Zara', 'Age': 7}\n",
        "dict['Name']"
      ],
      "execution_count": 0,
      "outputs": [
        {
          "output_type": "error",
          "ename": "KeyError",
          "evalue": "ignored",
          "traceback": [
            "\u001b[0;31m---------------------------------------------------------------------------\u001b[0m",
            "\u001b[0;31mKeyError\u001b[0m                                  Traceback (most recent call last)",
            "\u001b[0;32m<ipython-input-27-8f30d2c9ca99>\u001b[0m in \u001b[0;36m<module>\u001b[0;34m()\u001b[0m\n\u001b[1;32m      1\u001b[0m \u001b[0mdict\u001b[0m \u001b[0;34m=\u001b[0m \u001b[0;34m{\u001b[0m\u001b[0;34m'Name'\u001b[0m\u001b[0;34m:\u001b[0m \u001b[0;34m'Zara'\u001b[0m\u001b[0;34m,\u001b[0m \u001b[0;34m'Age'\u001b[0m\u001b[0;34m:\u001b[0m \u001b[0;36m7\u001b[0m\u001b[0;34m}\u001b[0m\u001b[0;34m\u001b[0m\u001b[0;34m\u001b[0m\u001b[0m\n\u001b[1;32m      2\u001b[0m \u001b[0mdict\u001b[0m\u001b[0;34m[\u001b[0m\u001b[0;34m'Name'\u001b[0m\u001b[0;34m]\u001b[0m\u001b[0;34m\u001b[0m\u001b[0;34m\u001b[0m\u001b[0m\n\u001b[0;32m----> 3\u001b[0;31m \u001b[0mdict\u001b[0m\u001b[0;34m[\u001b[0m\u001b[0;36m0\u001b[0m\u001b[0;34m]\u001b[0m\u001b[0;34m\u001b[0m\u001b[0;34m\u001b[0m\u001b[0m\n\u001b[0m",
            "\u001b[0;31mKeyError\u001b[0m: 0"
          ]
        }
      ]
    },
    {
      "metadata": {
        "id": "8GciVJXRiEHR",
        "colab_type": "code",
        "colab": {}
      },
      "cell_type": "code",
      "source": [
        "def squrOut(m):\n",
        "  ms = m.shape[0]\n",
        "  mv = np.vstack( [ m , np.zeros(ms) ] )\n",
        "  return np.column_stack( [ mv , np.zeros(ms+1) ] )"
      ],
      "execution_count": 0,
      "outputs": []
    },
    {
      "metadata": {
        "id": "rfcS72zvVmEt",
        "colab_type": "code",
        "colab": {}
      },
      "cell_type": "code",
      "source": [
        "def addToChain(w,v,t,m):\n",
        "  if not(w in t):\n",
        "    t.append(w)\n",
        "    m = squrOut(m)\n",
        "  b = t.index(w)\n",
        "  m[b][v] = m[b][v]+1\n",
        "  return [b,t,m]"
      ],
      "execution_count": 0,
      "outputs": []
    },
    {
      "metadata": {
        "id": "OdiDgccGeSuN",
        "colab_type": "code",
        "colab": {}
      },
      "cell_type": "code",
      "source": [
        ""
      ],
      "execution_count": 0,
      "outputs": []
    },
    {
      "metadata": {
        "id": "TlyVd7Ef7nML",
        "colab_type": "code",
        "outputId": "a8a440ed-ce8b-4344-ee30-74d44c002ec8",
        "colab": {
          "base_uri": "https://localhost:8080/",
          "height": 55
        }
      },
      "cell_type": "code",
      "source": [
        "nbeud['desc']"
      ],
      "execution_count": 0,
      "outputs": [
        {
          "output_type": "execute_result",
          "data": {
            "text/plain": [
              "'\"Blue-Eyes White Dragon\" + \"Blue-Eyes White Dragon\" + \"Blue-Eyes White Dragon\"\\nAt the end of the Damage Step, if this is the only face-up card you control, and this Fusion Summoned card attacked: You can send 1 \"Blue-Eyes\" Fusion Monster from your Extra Deck to the Graveyard; this card can attack again in a row. You can use this effect of \"Neo Blue-Eyes Ultimate Dragon\" up to twice per turn. During either player\\'s turn, when a card or effect is activated that targets a \"Blue-Eyes\" monster(s) you control: You can banish this card from your Graveyard; negate the activation, and if you do, destroy that card.'"
            ]
          },
          "metadata": {
            "tags": []
          },
          "execution_count": 68
        }
      ]
    },
    {
      "metadata": {
        "id": "YAeIh-vM9RGX",
        "colab_type": "code",
        "colab": {}
      },
      "cell_type": "code",
      "source": [
        "text=['[blank]']\n",
        "mat=np.zeros((1,1))\n",
        "word=''\n",
        "quoted=False\n",
        "reserved='.,;:'\n",
        "slashed=False\n",
        "lastword=0\n",
        "for l in nbeud['desc']: \n",
        "  if quoted:\n",
        "    if l=='\"':\n",
        "      quoted=False\n",
        "    else: \n",
        "      word=word+l\n",
        "  elif slashed:\n",
        "    slashed=False\n",
        "  else:\n",
        "    if l==' ':\n",
        "      [lastword,text,mat]=addToChain(word,lastword,text,mat)\n",
        "      word=''\n",
        "    elif l in reserved:\n",
        "      [lastword,text,mat]=addToChain(word,lastword,text,mat)\n",
        "      word=l\n",
        "    elif l=='\"':\n",
        "      word=''\n",
        "      quoted=True\n",
        "    elif l=='\\\\':\n",
        "      [lastword,text,mat]=addToChain(word,lastword,text,mat)\n",
        "      word=''\n",
        "      slashed=True\n",
        "    else: \n",
        "      word=word+l\n",
        "text.append(word)"
      ],
      "execution_count": 0,
      "outputs": []
    },
    {
      "metadata": {
        "id": "7RmKpl_WIIAr",
        "colab_type": "code",
        "outputId": "42d023ca-fd02-4995-f26f-1780cff9fb65",
        "colab": {
          "base_uri": "https://localhost:8080/",
          "height": 184
        }
      },
      "cell_type": "code",
      "source": [
        "print(text)\n",
        "print(mat)"
      ],
      "execution_count": 0,
      "outputs": [
        {
          "output_type": "stream",
          "text": [
            "['[blank]', 'Blue-Eyes White Dragon', '+', 'Blue-Eyes White Dragon\\nAt', 'the', 'end', 'of', 'Damage', 'Step', ',', 'if', 'this', 'is', 'only', 'face-up', 'card', 'you', 'control', 'and', 'Fusion', 'Summoned', 'attacked', ':', 'You', 'can', 'send', '1', 'Blue-Eyes', 'Monster', 'from', 'your', 'Extra', 'Deck', 'to', 'Graveyard', ';', 'attack', 'again', 'in', 'a', 'row', '.', 'use', 'effect', 'Neo Blue-Eyes Ultimate Dragon', 'up', 'twice', 'per', 'turn', 'During', 'either', \"player's\", 'when', 'or', 'activated', 'that', 'targets', 'monster(s)', 'banish', 'negate', 'activation', 'do', 'destroy', '.']\n",
            "[[0. 0. 0. ... 0. 0. 0.]\n",
            " [1. 0. 1. ... 0. 0. 0.]\n",
            " [0. 2. 0. ... 0. 0. 0.]\n",
            " ...\n",
            " [0. 0. 0. ... 0. 0. 0.]\n",
            " [0. 0. 0. ... 0. 0. 0.]\n",
            " [0. 0. 0. ... 0. 0. 0.]]\n"
          ],
          "name": "stdout"
        }
      ]
    },
    {
      "metadata": {
        "id": "-pesemk0_MUu",
        "colab_type": "code",
        "outputId": "e8f241ac-ec13-46dc-cdc2-d8149ed7138d",
        "colab": {
          "base_uri": "https://localhost:8080/",
          "height": 55
        }
      },
      "cell_type": "code",
      "source": [
        "nbeud={};\n",
        "for i in data[0]:\n",
        "  if i['id'] == '56532353':\n",
        "    nbeud=i\n",
        "nbeud['desc']"
      ],
      "execution_count": 0,
      "outputs": [
        {
          "output_type": "execute_result",
          "data": {
            "text/plain": [
              "'\"Blue-Eyes White Dragon\" + \"Blue-Eyes White Dragon\" + \"Blue-Eyes White Dragon\"\\nAt the end of the Damage Step, if this is the only face-up card you control, and this Fusion Summoned card attacked: You can send 1 \"Blue-Eyes\" Fusion Monster from your Extra Deck to the Graveyard; this card can attack again in a row. You can use this effect of \"Neo Blue-Eyes Ultimate Dragon\" up to twice per turn. During either player\\'s turn, when a card or effect is activated that targets a \"Blue-Eyes\" monster(s) you control: You can banish this card from your Graveyard; negate the activation, and if you do, destroy that card.'"
            ]
          },
          "metadata": {
            "tags": []
          },
          "execution_count": 62
        }
      ]
    },
    {
      "metadata": {
        "id": "FMIij08yAC1V",
        "colab_type": "code",
        "outputId": "75fe4efa-0786-49bc-a040-3652e61aec1a",
        "colab": {
          "base_uri": "https://localhost:8080/",
          "height": 55
        }
      },
      "cell_type": "code",
      "source": [
        "nbeud['desc']"
      ],
      "execution_count": 0,
      "outputs": [
        {
          "output_type": "execute_result",
          "data": {
            "text/plain": [
              "'\"Blue-Eyes White Dragon\" + \"Blue-Eyes White Dragon\" + \"Blue-Eyes White Dragon\"\\nAt the end of the Damage Step, if this is the only face-up card you control, and this Fusion Summoned card attacked: You can send 1 \"Blue-Eyes\" Fusion Monster from your Extra Deck to the Graveyard; this card can attack again in a row. You can use this effect of \"Neo Blue-Eyes Ultimate Dragon\" up to twice per turn. During either player\\'s turn, when a card or effect is activated that targets a \"Blue-Eyes\" monster(s) you control: You can banish this card from your Graveyard; negate the activation, and if you do, destroy that card.'"
            ]
          },
          "metadata": {
            "tags": []
          },
          "execution_count": 61
        }
      ]
    },
    {
      "metadata": {
        "id": "EmN1mNh4AV1t",
        "colab_type": "code",
        "colab": {}
      },
      "cell_type": "code",
      "source": [
        "class Person:\n",
        "  def __init__(self, name, age):\n",
        "    self.name = name\n",
        "    self.age = age\n",
        "\n",
        "  def myfunc(self):\n",
        "    print(\"Hello my name is \" + self.name)"
      ],
      "execution_count": 0,
      "outputs": []
    },
    {
      "metadata": {
        "id": "j0LxFNoMVKbb",
        "colab_type": "code",
        "colab": {}
      },
      "cell_type": "code",
      "source": [
        "def addToMat():\n",
        "  print(\"Hello my name is \" + self.name)"
      ],
      "execution_count": 0,
      "outputs": []
    },
    {
      "metadata": {
        "id": "_nckIntQFxMa",
        "colab_type": "code",
        "outputId": "2bf6f86f-2b5a-4b17-c5be-c7e94e564aad",
        "colab": {
          "base_uri": "https://localhost:8080/",
          "height": 35
        }
      },
      "cell_type": "code",
      "source": [
        "p1 = Person(\"John\", 36)\n",
        "p1.myfunc()       "
      ],
      "execution_count": 0,
      "outputs": [
        {
          "output_type": "stream",
          "text": [
            "Hello my name is John\n"
          ],
          "name": "stdout"
        }
      ]
    },
    {
      "metadata": {
        "id": "FYlyilAlVCih",
        "colab_type": "code",
        "colab": {}
      },
      "cell_type": "code",
      "source": [
        "mat=[[]]\n",
        "mat.append(['1'])\n",
        "mat[0].append('2')\n",
        "mat[1].append('3')\n",
        "mat[0].insert(4,'4')\n",
        "mat[0].insert(1,'5')"
      ],
      "execution_count": 0,
      "outputs": []
    },
    {
      "metadata": {
        "id": "V6fIOdzXWqJg",
        "colab_type": "code",
        "outputId": "17cf89a2-a8b6-4605-dd72-faedfadc82e3",
        "colab": {
          "base_uri": "https://localhost:8080/",
          "height": 35
        }
      },
      "cell_type": "code",
      "source": [
        "mat"
      ],
      "execution_count": 0,
      "outputs": [
        {
          "output_type": "execute_result",
          "data": {
            "text/plain": [
              "[['2', '5', '4'], ['1', '3']]"
            ]
          },
          "metadata": {
            "tags": []
          },
          "execution_count": 126
        }
      ]
    },
    {
      "metadata": {
        "id": "Aaee8JudWynX",
        "colab_type": "code",
        "outputId": "9c446cfe-444d-4600-9baa-38c4d98ccb1e",
        "colab": {
          "base_uri": "https://localhost:8080/",
          "height": 35
        }
      },
      "cell_type": "code",
      "source": [
        "p = np.zeros((0,0))"
      ],
      "execution_count": 0,
      "outputs": [
        {
          "output_type": "execute_result",
          "data": {
            "text/plain": [
              "array([], shape=(0, 0), dtype=float64)"
            ]
          },
          "metadata": {
            "tags": []
          },
          "execution_count": 131
        }
      ]
    },
    {
      "metadata": {
        "id": "cj9UJKl1gsxI",
        "colab_type": "code",
        "colab": {}
      },
      "cell_type": "code",
      "source": [
        "def squrOut(m):\n",
        "  ms = m.shape[0]\n",
        "  mv = np.vstack( [ m , np.zeros(ms) ] )\n",
        "  return np.column_stack( [ mv , np.zeros(ms+1) ] )"
      ],
      "execution_count": 0,
      "outputs": []
    },
    {
      "metadata": {
        "id": "PuZ2_Sr8b-so",
        "colab_type": "code",
        "colab": {}
      },
      "cell_type": "code",
      "source": [
        "p = np.zeros((2,2))"
      ],
      "execution_count": 0,
      "outputs": []
    },
    {
      "metadata": {
        "id": "pcCKihtwdrhn",
        "colab_type": "code",
        "outputId": "1b6c100b-8392-4a0b-dd6e-9f1fc2c2f73b",
        "colab": {
          "base_uri": "https://localhost:8080/",
          "height": 35
        }
      },
      "cell_type": "code",
      "source": [
        "p = np.zeros((4,4))\n",
        "p.shape"
      ],
      "execution_count": 0,
      "outputs": [
        {
          "output_type": "execute_result",
          "data": {
            "text/plain": [
              "(4, 4)"
            ]
          },
          "metadata": {
            "tags": []
          },
          "execution_count": 173
        }
      ]
    },
    {
      "metadata": {
        "id": "moGC6qWegl5v",
        "colab_type": "code",
        "colab": {}
      },
      "cell_type": "code",
      "source": [
        "p=squrOut(p)"
      ],
      "execution_count": 0,
      "outputs": []
    },
    {
      "metadata": {
        "id": "VP6V7UXqfh_z",
        "colab_type": "code",
        "outputId": "6beae5ab-7e4c-46fb-d91e-553839027aaf",
        "colab": {
          "base_uri": "https://localhost:8080/",
          "height": 35
        }
      },
      "cell_type": "code",
      "source": [
        "p.shape"
      ],
      "execution_count": 0,
      "outputs": [
        {
          "output_type": "execute_result",
          "data": {
            "text/plain": [
              "(5, 5)"
            ]
          },
          "metadata": {
            "tags": []
          },
          "execution_count": 175
        }
      ]
    },
    {
      "metadata": {
        "id": "R8vXi4gMgXqG",
        "colab_type": "code",
        "colab": {}
      },
      "cell_type": "code",
      "source": [
        ""
      ],
      "execution_count": 0,
      "outputs": []
    }
  ]
}